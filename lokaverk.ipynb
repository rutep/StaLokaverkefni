{
 "cells": [
  {
   "cell_type": "code",
   "execution_count": 169,
   "metadata": {},
   "outputs": [
    {
     "name": "stdout",
     "output_type": "stream",
     "text": [
      "Skekkja train gagna:  0.0\n",
      "\n",
      "Skekkja test gagnanna:  0.0\n"
     ]
    }
   ],
   "source": [
    "import numpy as np\n",
    "\n",
    "data=np.load('docmatrix.npz')\n",
    "X=data['X']\n",
    "y=data['y']\n",
    "y[y==2] = -1\n",
    "y[y==3] = -1\n",
    "terms=data['terms']\n",
    "\n",
    "# Skipta í gögnum í þjálfunar- og prófunargögn\n",
    "n=X.shape[0]\n",
    "rnd=np.random.permutation(n) # Slembin umröðun talnanna 1,...,n\n",
    "nfrac=0.7 # Hlutfall gagna sem er notað til þjálfunar\n",
    "n_train=int(nfrac*n)\n",
    "n_test=int(0.3*n)\n",
    "x_train=X[rnd[0:n_train],:]\n",
    "y_train=y[rnd[0:n_train]]\n",
    "x_test=X[rnd[n_train:],:]\n",
    "y_test=y[rnd[n_train:]]\n",
    "#print(\"X_train:\", x_train.shape)\n",
    "#print(\"X_test:\", x_test.shape)\n",
    "#print(y)\n",
    "\n",
    "A_train = np.c_[np.ones(n_train), x_train]\n",
    "theta_train,res_train,rank_train,_ = np.linalg.lstsq(A_train, y_train, rcond=False)\n",
    "#print(\"theta_train:\", theta_train) # Ekki sömu gildi og í bók\n",
    "\n",
    "\n",
    "# Spá\n",
    "ypred_train=np.sign(np.dot(A_train,theta_train))\n",
    "\n",
    "#bera saman\n",
    "print(\"Skekkja train gagna: \", np.sum(y_train != ypred_train)/n_train)\n",
    "\n",
    "\n",
    "\n",
    "A_test = np.c_[np.ones(n_test), x_test]\n",
    "theta_test,res_test,rank_test,_ = np.linalg.lstsq(A_test, y_test, rcond=False)\n",
    "print(\"\")\n",
    "#print(\"theta_test:\", theta_test)\n",
    "\n",
    "ypred_test=np.sign(np.dot(A_test,theta_test))\n",
    "\n",
    "print(\"Skekkja test gagnanna: \", np.sum(y_test != ypred_test)/n_test)\n",
    "\n",
    "#def rms(x):\n",
    "    #return np.linalg.norm(x)/np.sqrt(len(x))\n",
    "\n",
    "#print(\"rms_train: \",rms(x_train))\n",
    "\n",
    "#print(\"rms_test: \",rms(x_test))\n",
    "\n",
    "#count = 0\n",
    "#for i in range (0,180):\n",
    "    #if (y_test[i]!=ypred_train[i]):\n",
    "        #count +=1\n",
    "\n",
    "#print(count/n_test)\n",
    "\n",
    "#prufa = np.dot(A_train,theta_train)\n",
    "#print(prufa)\n",
    "#print(prufa.shape)\n",
    "#print(np.sum(y_train != prufa))"
   ]
  },
  {
   "cell_type": "code",
   "execution_count": 175,
   "metadata": {},
   "outputs": [
    {
     "name": "stdout",
     "output_type": "stream",
     "text": [
      "[0.1001 0.0154 0.1156 0.1721 0.203  0.2011 0.2071 0.2661 0.3529 0.3676]\n"
     ]
    }
   ],
   "source": [
    "import numpy as np\n",
    "\n",
    "data=np.load('mnist_small.npz')\n",
    "x_train=data['x_train']\n",
    "y_train=data['y_train']\n",
    "x_test=data['x_test']\n",
    "y_test=data['y_test']\n",
    "n_train = len(y_train)\n",
    "n_test = len(y_test)\n",
    "#print(x_train.shape)\n",
    "#print(y_train.shape)\n",
    "#print(x_test.shape)\n",
    "\n",
    "\n",
    "\n",
    "y=np.array([y_train, y_train, y_train, y_train, y_train, y_train, y_train, y_train, y_train, y_train])\n",
    "y2=np.array([y_test, y_test, y_test, y_test, y_test, y_test, y_test, y_test, y_test, y_test])\n",
    "\n",
    "count=np.array([0.0, 0.0, 0.0, 0.0, 0.0, 0.0, 0.0, 0.0, 0.0, 0.0])\n",
    "\n",
    "\n",
    "def thjalfun(y_train, u):\n",
    "    A_train = np.c_[np.ones(n_train), x_train]\n",
    "    theta_train,res_train,rank_train,_ = np.linalg.lstsq(A_train, y_train, rcond=False)\n",
    "    ypred_train=np.sign(np.dot(A_train,theta_train))\n",
    "    return np.sum(y_train != ypred_train)/n_train\n",
    "\n",
    "\n",
    "for i in range(0, 10):\n",
    "    y_train[y_train==i]=i\n",
    "    y_train[y_train!=i]=-1\n",
    "    #y_test[y_test==i]=i\n",
    "    #y_test[y_test!=i]=-1\n",
    "    \n",
    "    count[i] = thjalfun(y_train, u)\n",
    "    y_train = y[i]\n",
    "    #y_test = y2[u]\n",
    "\n",
    "\n",
    "print(count)\n"
   ]
  },
  {
   "cell_type": "code",
   "execution_count": null,
   "metadata": {},
   "outputs": [],
   "source": [
    "import numpy as np\n",
    "\n",
    "y=np.array([[0,1,2,3,4,5,6,7,8,9],[0,1,2,3,4,5,6,7,8,9],[0,1,2,3,4,5,6,7,8,9]])  \n",
    "y2=np.array([y,y,y,y,y,y,y,y,y,y])\n",
    "for i in range(0, 10):\n",
    "    y[y==i]=i\n",
    "    y[y!=i]=-1\n",
    "    print(y)\n",
    "    y=y2[i]\n",
    "    print(y)\n",
    "    print()"
   ]
  }
 ],
 "metadata": {
  "kernelspec": {
   "display_name": "Python 3",
   "language": "python",
   "name": "python3"
  },
  "language_info": {
   "codemirror_mode": {
    "name": "ipython",
    "version": 3
   },
   "file_extension": ".py",
   "mimetype": "text/x-python",
   "name": "python",
   "nbconvert_exporter": "python",
   "pygments_lexer": "ipython3",
   "version": "3.6.4"
  }
 },
 "nbformat": 4,
 "nbformat_minor": 2
}
