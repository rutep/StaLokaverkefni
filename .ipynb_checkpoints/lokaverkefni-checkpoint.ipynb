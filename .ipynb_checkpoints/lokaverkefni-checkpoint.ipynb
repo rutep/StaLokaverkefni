{
 "cells": [
  {
   "cell_type": "markdown",
   "metadata": {},
   "source": [
    "# REI201G Hópverkefni\n",
    "\n",
    "Í þessu verkefni mega nemendur vinna í hópum, **allt að þrír í hóp**. Merkið lausnina með nöfnum allra í hópnum og skilið einni hóplausn á Gradescope. Þetta verkefni er umfangsmeira en heimaverkefnin og því er nauðsynlegt að byrja snemma.\n",
    "\n",
    "**Skilafrestur** er til föstudagsins 20. apríl, kl. 23:59.\n",
    "\n",
    "Þið skilið Jupyter vinnubók sem inniheldur allan kóða sem notaður er til að leysa verkefnið ásamt útskýringum. Gefið verður sérstaklega fyrir hversu auðvelt er að fylgja kóðanum og hversu læsileg vinnubókin er. Óþarfi er að láta lýsingu á dæmum fylgja. Athugið að minnstu fervika verkefni er hægt að leysa með `np.linalg.lstsq` fallinu í NumPy."
   ]
  },
  {
   "cell_type": "markdown",
   "metadata": {},
   "source": [
    "1\\. [Flokkun á textaskjölum, 20 stig] Í þessu verkefni er unnið með gögn um tíðni orða í textaskjölum (unnið var með hliðstæð gögn í heimaverkefni 3.4). Fylki $X$ geymir hversu oft 1000 mismunandi orð á borð við `Griffyndor`, `football` og `school` koma fyrir í 600 skjölum. Búið er að flokka öll skjölin í einn af þremur eftirfarandi flokkum: íþróttir (1), menntun (2) og Harry Potter (3). Merkingarnar eru geymdar í 600-vigrinum $y$.\n",
    "\n",
    "Þið eigið að útbúa minnstu kvaðrata flokkara sem spáir fyrir um hvort tiltekinn textabútur (í formi vigurs $x$ sem geymir hversu oft orðin 1000 koma fyrir) fjalli um íþróttir eða ekki. Flokkarinn er á forminu $\\hat{y} = \\textrm{sign}(\\tilde{y}(x))$ þar sem $\\tilde{y}(x)=w^T x + v$ fæst með minnstu kvaðrata aðhvarfsgreiningu.\n",
    "\n",
    "Lesið gögnin inn og skiptið upp í þjálfunar- og prófunargögn með eftirfarandi kóða:"
   ]
  },
  {
   "cell_type": "code",
   "execution_count": 14,
   "metadata": {},
   "outputs": [
    {
     "ename": "NameError",
     "evalue": "name 'x' is not defined",
     "output_type": "error",
     "traceback": [
      "\u001b[0;31m---------------------------------------------------------------------------\u001b[0m",
      "\u001b[0;31mNameError\u001b[0m                                 Traceback (most recent call last)",
      "\u001b[0;32m<ipython-input-14-87d7c2741cea>\u001b[0m in \u001b[0;36m<module>\u001b[0;34m()\u001b[0m\n\u001b[1;32m     17\u001b[0m \u001b[0my_test\u001b[0m\u001b[0;34m=\u001b[0m\u001b[0my\u001b[0m\u001b[0;34m[\u001b[0m\u001b[0mrnd\u001b[0m\u001b[0;34m[\u001b[0m\u001b[0mn_train\u001b[0m\u001b[0;34m:\u001b[0m\u001b[0;34m]\u001b[0m\u001b[0;34m]\u001b[0m\u001b[0;34m\u001b[0m\u001b[0m\n\u001b[1;32m     18\u001b[0m \u001b[0;34m\u001b[0m\u001b[0m\n\u001b[0;32m---> 19\u001b[0;31m \u001b[0mN\u001b[0m \u001b[0;34m=\u001b[0m \u001b[0mx\u001b[0m\u001b[0;34m.\u001b[0m\u001b[0mshape\u001b[0m\u001b[0;34m[\u001b[0m\u001b[0;36m0\u001b[0m\u001b[0;34m]\u001b[0m\u001b[0;34m\u001b[0m\u001b[0m\n\u001b[0m\u001b[1;32m     20\u001b[0m \u001b[0mA\u001b[0m \u001b[0;34m=\u001b[0m \u001b[0mnp\u001b[0m\u001b[0;34m.\u001b[0m\u001b[0mc_\u001b[0m\u001b[0;34m[\u001b[0m\u001b[0mnp\u001b[0m\u001b[0;34m.\u001b[0m\u001b[0mones\u001b[0m\u001b[0;34m(\u001b[0m\u001b[0mn\u001b[0m\u001b[0;34m)\u001b[0m\u001b[0;34m,\u001b[0m \u001b[0mx\u001b[0m\u001b[0;34m]\u001b[0m\u001b[0;34m\u001b[0m\u001b[0m\n\u001b[1;32m     21\u001b[0m \u001b[0mtheta\u001b[0m\u001b[0;34m,\u001b[0m\u001b[0mres\u001b[0m\u001b[0;34m,\u001b[0m\u001b[0mrank\u001b[0m\u001b[0;34m,\u001b[0m\u001b[0m_\u001b[0m \u001b[0;34m=\u001b[0m \u001b[0mnp\u001b[0m\u001b[0;34m.\u001b[0m\u001b[0mlinalg\u001b[0m\u001b[0;34m.\u001b[0m\u001b[0mlstsq\u001b[0m\u001b[0;34m(\u001b[0m\u001b[0mA\u001b[0m\u001b[0;34m,\u001b[0m \u001b[0my\u001b[0m\u001b[0;34m,\u001b[0m \u001b[0mrcond\u001b[0m\u001b[0;34m=\u001b[0m\u001b[0mFalse\u001b[0m\u001b[0;34m)\u001b[0m\u001b[0;34m\u001b[0m\u001b[0m\n",
      "\u001b[0;31mNameError\u001b[0m: name 'x' is not defined"
     ]
    }
   ],
   "source": [
    "import numpy as np\n",
    "\n",
    "data=np.load('docmatrix.npz')\n",
    "X=data['X']\n",
    "y=data['y']\n",
    "terms=data['terms']\n",
    "y[y==3]=-1\n",
    "y[y==2]=-1\n",
    "# Skipta í gögnum í þjálfunar- og prófunargögn\n",
    "n=X.shape[0]\n",
    "rnd=np.random.permutation(n) # Slembin umröðun talnanna 1,...,n\n",
    "nfrac=0.7 # Hlutfall gagna sem er notað til þjálfunar\n",
    "n_train=int(nfrac*n)\n",
    "x_train=X[rnd[0:n_train],:]\n",
    "y_train=y[rnd[0:n_train]]\n",
    "x_test=X[rnd[n_train:],:]\n",
    "y_test=y[rnd[n_train:]]\n",
    "\n",
    "N = X.shape[0]\n",
    "A = np.c_[np.ones(n), X]\n",
    "theta,res,rank,_ = np.linalg.lstsq(A, y, rcond=False)\n",
    "print(\"theta:\", theta) # Ekki sömu gildi og í bók\n",
    "\n",
    "# Spá\n",
    "ypred=np.sign(np.dot(A,theta))\n",
    "\n"
   ]
  },
  {
   "cell_type": "code",
   "execution_count": null,
   "metadata": {},
   "outputs": [],
   "source": []
  },
  {
   "cell_type": "code",
   "execution_count": null,
   "metadata": {},
   "outputs": [],
   "source": []
  },
  {
   "cell_type": "code",
   "execution_count": null,
   "metadata": {},
   "outputs": [],
   "source": []
  },
  {
   "cell_type": "code",
   "execution_count": null,
   "metadata": {},
   "outputs": [],
   "source": []
  },
  {
   "cell_type": "code",
   "execution_count": null,
   "metadata": {},
   "outputs": [],
   "source": []
  },
  {
   "cell_type": "code",
   "execution_count": null,
   "metadata": {},
   "outputs": [],
   "source": []
  },
  {
   "cell_type": "code",
   "execution_count": null,
   "metadata": {},
   "outputs": [],
   "source": []
  },
  {
   "cell_type": "code",
   "execution_count": null,
   "metadata": {},
   "outputs": [],
   "source": []
  },
  {
   "cell_type": "code",
   "execution_count": null,
   "metadata": {},
   "outputs": [],
   "source": []
  },
  {
   "cell_type": "code",
   "execution_count": null,
   "metadata": {},
   "outputs": [],
   "source": []
  },
  {
   "cell_type": "code",
   "execution_count": null,
   "metadata": {},
   "outputs": [],
   "source": []
  },
  {
   "cell_type": "code",
   "execution_count": null,
   "metadata": {},
   "outputs": [],
   "source": []
  },
  {
   "cell_type": "code",
   "execution_count": null,
   "metadata": {},
   "outputs": [],
   "source": []
  },
  {
   "cell_type": "code",
   "execution_count": null,
   "metadata": {},
   "outputs": [],
   "source": []
  },
  {
   "cell_type": "code",
   "execution_count": null,
   "metadata": {},
   "outputs": [],
   "source": []
  },
  {
   "cell_type": "code",
   "execution_count": null,
   "metadata": {},
   "outputs": [],
   "source": []
  },
  {
   "cell_type": "markdown",
   "metadata": {},
   "source": [
    "a) Sameinið flokka 2 og 3 og útbúið minnstu kvaðrata flokkara út frá þjálfunargögnum. Metið skekkju flokkarans á þjálfunargögnum annars vegar og prófunargögnum hins vegar (e. training set error, test set error)."
   ]
  },
  {
   "cell_type": "markdown",
   "metadata": {},
   "source": [
    "b) Hvaða orð hafa mest áhrif á flokkunina? (Sýnið 10 orð eða þar um bil, gætið þess að taka tillit til fastans $v$)."
   ]
  },
  {
   "cell_type": "markdown",
   "metadata": {},
   "source": [
    "2\\. [Flokkun á handskrifuðum tölustöfum, 50 stig] Í þessu verkefni á að flokka myndir af handskrifuðum tölustöfum. Gögnin koma úr gagnasafni sem kallast MNIST og þau samanstanda af $28 \\times 28$ punkta myndum sem búið er að breyta í 784-vigra. Hver vigur er merktur með tölu, 0, 1, ..., 9 ($K=10$ flokkar). Markmiðið er að búa til flokkara (reglu) $\\hat{f}$ sem tekur mynd á vigurformi sem inntak og skilar tölu á bilinu 0 til 9 (sem helst ætti að vera rétt). Gögnunum er skipt í þjálfunargögn (10000 stök) og prófunargögn (1000 stök) sem þið notið til að þjálfa flokkarann annnars vegar og meta hversu góður hann er hins vegar.\n",
    "\n",
    "Þið sækið MNIST gögnin með"
   ]
  },
  {
   "cell_type": "code",
   "execution_count": 2,
   "metadata": {},
   "outputs": [
    {
     "name": "stdout",
     "output_type": "stream",
     "text": [
      "(10000, 784)\n",
      "(1000, 784)\n"
     ]
    }
   ],
   "source": [
    "import numpy as np\n",
    "\n",
    "data=np.load('mnist_small.npz')\n",
    "x_train=data['x_train']\n",
    "y_train=data['y_train']\n",
    "x_test=data['x_test']\n",
    "y_test=data['y_test']\n",
    "n_train = len(y_train)\n",
    "n_test = len(y_test)\n",
    "print(x_train.shape)\n",
    "print(x_test.shape)"
   ]
  },
  {
   "cell_type": "markdown",
   "metadata": {},
   "source": [
    "a) [20 stig] Þjálfið 10 tvíþátta flokkara (e. binary classifier) $\\hat{f}_k, ~i = 0,\\ldots,9$ sem eru þannig að $\\hat{f}_k$ greinir flokk $k$ frá öllum öðrum (sbr. dæmi 1 hér á undan) og mælið villutíðni á prófunargögnum fyrir hvern og einn flokkara. \n",
    "\n",
    "Myndið einn fjölþátta flokkara $\\hat{f}$ með því að taka stærsta $\\tilde{f}_k$ gildið sem niðurstöðu (sjá grein 14.3.1 í bók). Mælið villutíðni fyrir þann flokkara, bæði á þjálfunar og prófunargögnum. Setjið kóðann ykkar í föll eins og við á. Athugið að í þeim liðum sem á eftir koma skoðið þið eingöngu þjálfunar- og prófunarskekkju fyrir fjölþátta flokkarann.\n",
    "\n",
    "*Athugasemdir*:\n",
    "\n",
    "1) Þið getið skoðað gögn myndrænt með\n",
    "```python\n",
    "import matplotlib.pyplot as plt\n",
    "plt.imshow(x_train[0,:].reshape(28,28),cmap='Greys') # Fyrsta myndin í þjálfunargögnunum\n",
    "plt.show()\n",
    "```\n",
    "\n",
    "2) Notið $K \\times (p+1)$ fylki til að halda utan um vogtölur fyrir alla $K=10$ flokkarana (lína $i$ svarar til flokkara $i$).\n",
    "\n",
    "3) Brjótið verkefnið niður í viðráðanlegar einingar, útfærið t.d. fyrst flokkara fyrir $K=3$ og síðan fyrir $K=10$.\n"
   ]
  },
  {
   "cell_type": "markdown",
   "metadata": {},
   "source": [
    "b) [5 stig] Skrifið fall sem reiknar ruglingsfylki (e. confusion matrix) og sýnið ruglingsfyki fyrir þjálfunar- og prófunargögn. Eru niðurstöður ykkar nokkurn veginn í samræmi við töflur 14.11 og 14.12 í bók? (að teknu tilliti til þess að töflur í bók byggja á stærra gagnasafni og aðeins smærri bitmap-myndum)."
   ]
  },
  {
   "cell_type": "markdown",
   "metadata": {},
   "source": [
    "c) [10 stig] Í þessum lið á að framkvæma svokallað \"feature engineering\" (fremst í grein 13.3) með því að bæta við nýjum breytum. Við fáum þannig nýtt gagnasafn sem inniheldur allar upphaflegu breyturnar (784 pixel-gildi) og þær nýju að auki. Hér notum við svokallaða \"random features\" (sjá grein 14.2.2 í bók). Lát $q$ tákna fjölda breyta sem á að bæta við, t.d. $q=1000$.\n",
    "\n",
    "Fyrir 784-vigur $x$ fást nýju (afleiddu) breyturnar með $\\max{((Rx)_j,0)}),~j=1,\\ldots,q$ þar sem $R$ er $q \\times 784$ fylki með stökum sem valin eru af handahófi, $R_{ij}=\\pm 1$. Fyrir hverja mynd í prófunar- og þjálfunargögnum bætið þið við $q$ slíkum slembigögnum, þjálfið flokkara eins og í a) lið og mælið villutíðni á prófunarsafn. Framkvæmið þetta fyrir $q=100,1000, 5000$ og 10000.\n",
    "\n",
    "*Athugasemdir*:\n",
    "\n",
    "1) Þið getið notað `np.random.randint` til að útbúa slembinn 0/1 vigur og breytið yfir í $pm~1$ gildi.\n",
    "\n",
    "2) Þið útbúið eitt $R$-fylki fyrir hvert gildi á $q$ og notið sama fylkið fyrir bæði þjálfunar- og prófunargögn.\n",
    "\n",
    "3) Þið getið notað `np.maximum` til að framkvæma max-aðgerina."
   ]
  },
  {
   "cell_type": "markdown",
   "metadata": {},
   "source": [
    "d) [10 stig] Bætið nú reglunarlið $||w||^2$ við kvaðratskekkjuna (sjá greinar 15.1 og 15.4). Leysið minnstu kvaðrata verkefnið með upphaflegu gögnunum fyrir $\\lambda=10^{-2}, 1, 10^2, 10^4,10^6$. Reiknið þjálfunar- og prófunarskekkju í hvert skipti og teiknið graf sem sýnir skekkjur sem fall af $\\lambda$. Hvaða ályktanir má draga af grafinu?"
   ]
  },
  {
   "cell_type": "markdown",
   "metadata": {},
   "source": [
    "e) [5 stig] Hér á að nota bæði reglun og slembnar inntaksbreytur í þeirri viðleitni að auka nákvæmni í flokkun enn frekar. Veljið heppilegt gildi á $\\lambda$, bætið við slembnum inntaksbreytum eins og í b) lið og útbúið flokkara. Finnið villutíðni á prófunargögnum. Athugið að þið gætuð þurft að prófa önnur gildi á $\\lambda$ en notuð voru í d) lið."
   ]
  },
  {
   "cell_type": "code",
   "execution_count": null,
   "metadata": {},
   "outputs": [],
   "source": []
  }
 ],
 "metadata": {
  "kernelspec": {
   "display_name": "Python 2",
   "language": "python",
   "name": "python2"
  },
  "language_info": {
   "codemirror_mode": {
    "name": "ipython",
    "version": 2
   },
   "file_extension": ".py",
   "mimetype": "text/x-python",
   "name": "python",
   "nbconvert_exporter": "python",
   "pygments_lexer": "ipython2",
   "version": "2.7.12"
  }
 },
 "nbformat": 4,
 "nbformat_minor": 2
}
